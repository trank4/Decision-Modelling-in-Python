{
 "cells": [
  {
   "cell_type": "code",
   "execution_count": 1,
   "metadata": {},
   "outputs": [],
   "source": [
    "#libraries\n",
    "from ortools.linear_solver import pywraplp as glp"
   ]
  },
  {
   "cell_type": "code",
   "execution_count": 2,
   "metadata": {},
   "outputs": [],
   "source": [
    "#imputs\n",
    "name=['frame','support','strap']\n",
    "department = ['cutting','milling','shaping']\n",
    "unit_component = [1.0,2.0,1.0] #One product is assembled from four components: 1 frame, 2 supports, 1 metal strap, 1 motor\n",
    "#but we can neglect the motor info because the company does not control make/buy decision of it\n",
    "#When we minimize the production cost of the other 3 components, we also minimize the production costs of making liftmaster\n",
    "num_prod = 5000.0 #5000 liftmaster is demanded\n",
    "cost = [[38.0,51.0],[11.5,15.0],[6.5,7.5]] #manufacturing vs purchase costs for frame, support, strap\n",
    "time = [[3.5,2.2,3.1],[1.3,1.7,2.6],[0.8,0.0,1.7]] #time for each component in each department\n",
    "capacity = [350.0,420.0,680.0]"
   ]
  },
  {
   "cell_type": "code",
   "execution_count": 3,
   "metadata": {},
   "outputs": [],
   "source": [
    "#intermediate calculations\n",
    "component = [(num_prod*i) for i in unit_component]\n",
    "capacity_minute = [(i*60) for i in capacity]"
   ]
  },
  {
   "cell_type": "code",
   "execution_count": 4,
   "metadata": {},
   "outputs": [],
   "source": [
    "##Create model\n",
    "model = glp.Solver('Frandec',glp.Solver.GLOP_LINEAR_PROGRAMMING)"
   ]
  },
  {
   "cell_type": "code",
   "execution_count": 5,
   "metadata": {},
   "outputs": [],
   "source": [
    "#Decision variables:\n",
    "dvar = list()\n",
    "#We arrange make quantities before buy quantities. \n",
    "#Within each category, we arranged according to the order of component in name list\n",
    "for i in range(len(component)*2):\n",
    "    if i < len(component):\n",
    "        dvar.append(model.NumVar(0,model.infinity(),name[i]+' manufactured'))\n",
    "    else:\n",
    "        dvar.append(model.NumVar(0,model.infinity(), name[i-len(component)]+' purchased'))"
   ]
  },
  {
   "cell_type": "code",
   "execution_count": 6,
   "metadata": {},
   "outputs": [],
   "source": [
    "#Objective Function\n",
    "TotCost = model.Objective()\n",
    "TotCost.SetMinimization()\n",
    "for i in range(len(dvar)):\n",
    "    if i < len(component):\n",
    "        TotCost.SetCoefficient(dvar[i],cost[i][0])\n",
    "    else:\n",
    "        TotCost.SetCoefficient(dvar[i],cost[i-len(component)][1])"
   ]
  },
  {
   "cell_type": "code",
   "execution_count": 7,
   "metadata": {},
   "outputs": [],
   "source": [
    "#Constraints\n",
    "constr = list(range(len(component)+len(department)))\n",
    "#3 constraints on number of components, total of make and buy for each component = number required to make 5000 lifemaster\n",
    "for c in range(len(component)):\n",
    "    constr[c]=model.Constraint(component[c],component[c],'Number of %s:'% name[c])\n",
    "    for d in range(len(dvar)):\n",
    "        if ((d==c) or (d==(c+len(component)))):\n",
    "            constr[c].SetCoefficient(dvar[d],1)\n",
    "        else:\n",
    "            constr[c].SetCoefficient(dvar[d],0)\n",
    "#3 constraints on department capacity\n",
    "for i in range(len(component),len(component)+len(department)):\n",
    "    constr[i]=model.Constraint(0,capacity_minute[i-len(component)],'Capacity of %s:'% department[i-len(component)])\n",
    "    for d in range(len(dvar)):\n",
    "        if (d<len(component)):\n",
    "            constr[i].SetCoefficient(dvar[d],time[d][i-len(component)])\n",
    "        else:\n",
    "            constr[i].SetCoefficient(dvar[d],0)"
   ]
  },
  {
   "cell_type": "code",
   "execution_count": 8,
   "metadata": {},
   "outputs": [
    {
     "name": "stdout",
     "output_type": "stream",
     "text": [
      "Solution status: Optimal\n",
      "Number of variables: 6\n",
      "Number of constraints: 6\n",
      "frame manufactured = 5000 units\n",
      "support manufactured = 2692 units\n",
      "strap manufactured = 0 units\n",
      "frame purchased = 0 units\n",
      "support purchased = 7308 units\n",
      "strap purchased = 5000 units\n",
      "Total production cost: $368076.92\n"
     ]
    }
   ],
   "source": [
    "#Solve model and display result\n",
    "statusls = ['Optimal','Feasible','Infeasible','Unbounded','Abnormal','Not Solved']\n",
    "status = model.Solve()\n",
    "print('Solution status:', statusls[status])\n",
    "print('Number of variables:', model.NumVariables())\n",
    "print('Number of constraints:',model.NumConstraints())\n",
    "for d in range(len(dvar)):\n",
    "    if (d<len(component)):\n",
    "        print('%s manufactured = %.0f units' % (name[d],dvar[d].solution_value()))\n",
    "    else:\n",
    "        print('%s purchased = %.0f units' % (name[d-len(component)],dvar[d].solution_value()))\n",
    "print('Total production cost: $%.2f'%(TotCost.Value()))"
   ]
  },
  {
   "cell_type": "code",
   "execution_count": 9,
   "metadata": {},
   "outputs": [
    {
     "name": "stdout",
     "output_type": "stream",
     "text": [
      "Total number of frame (both make and buy): 5000, marginal cost: 47.42\n",
      "Total number of support (both make and buy): 10000, marginal cost: 15.00\n",
      "Total number of strap (both make and buy): 5000, marginal cost: 7.50\n",
      "Department cutting time (hours): 350.00, capacity: 350.00, marginal cost: -2.69\n",
      "Department milling time (hours): 259.62, capacity: 420.00, marginal cost: 0.00\n",
      "Department shaping time (hours): 375.00, capacity: 680.00, marginal cost: 0.00\n"
     ]
    }
   ],
   "source": [
    "#Display Constraints info\n",
    "LHS = model.ComputeConstraintActivities()\n",
    "for i in range(3):\n",
    "    print('Total number of %s (both make and buy): %.0f, marginal cost: %.2f' % (name[i],LHS[i],constr[i].dual_value()))\n",
    "for i in range(3):\n",
    "    print('Department %s time (hours): %.2f, capacity: %.2f, marginal cost: %.2f' % (department[i],LHS[i+len(component)]/60,capacity[i],constr[i+len(component)].dual_value()))"
   ]
  },
  {
   "cell_type": "markdown",
   "metadata": {},
   "source": [
    "b) Frantec should pay for additional hour of each department based on the respective marginal cost shown above"
   ]
  },
  {
   "cell_type": "code",
   "execution_count": 10,
   "metadata": {},
   "outputs": [
    {
     "name": "stdout",
     "output_type": "stream",
     "text": [
      "Solution status: Optimal\n",
      "frame manufactured = 2286 units\n",
      "support manufactured = 10000 units\n",
      "strap manufactured = 0 units\n",
      "frame purchased = 2714 units\n",
      "support purchased = 0 units\n",
      "strap purchased = 5000 units\n",
      "Total production cost: $361500.00\n"
     ]
    }
   ],
   "source": [
    "#c\n",
    "#new cost matrix\n",
    "cost = [[38.0,45.0],[11.5,15.0],[6.5,7.5]] #manufacturing vs purchase costs for frame, support, strap\n",
    "for i in range(len(dvar)):\n",
    "    if i < len(component):\n",
    "        TotCost.SetCoefficient(dvar[i],cost[i][0])\n",
    "    else:\n",
    "        TotCost.SetCoefficient(dvar[i],cost[i-len(component)][1])\n",
    "status = model.Solve()\n",
    "print('Solution status:', statusls[status])\n",
    "for d in range(len(dvar)):\n",
    "    if (d<len(component)):\n",
    "        print('%s manufactured = %.0f units' % (name[d],dvar[d].solution_value()))\n",
    "    else:\n",
    "        print('%s purchased = %.0f units' % (name[d-len(component)],dvar[d].solution_value()))\n",
    "print('Total production cost: $%.2f'%(TotCost.Value()))"
   ]
  },
  {
   "cell_type": "markdown",
   "metadata": {},
   "source": [
    "Since the new cost is lower than the old cost, the company should accept the deal"
   ]
  },
  {
   "cell_type": "code",
   "execution_count": null,
   "metadata": {},
   "outputs": [],
   "source": []
  }
 ],
 "metadata": {
  "kernelspec": {
   "display_name": "Python 3",
   "language": "python",
   "name": "python3"
  },
  "language_info": {
   "codemirror_mode": {
    "name": "ipython",
    "version": 3
   },
   "file_extension": ".py",
   "mimetype": "text/x-python",
   "name": "python",
   "nbconvert_exporter": "python",
   "pygments_lexer": "ipython3",
   "version": "3.7.1"
  }
 },
 "nbformat": 4,
 "nbformat_minor": 2
}
