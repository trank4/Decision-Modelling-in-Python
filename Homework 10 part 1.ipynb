{
 "cells": [
  {
   "cell_type": "code",
   "execution_count": 1,
   "metadata": {},
   "outputs": [],
   "source": [
    "# import Glop linear solver package\n",
    "from ortools.linear_solver import pywraplp as glp"
   ]
  },
  {
   "cell_type": "code",
   "execution_count": 2,
   "metadata": {},
   "outputs": [],
   "source": [
    "# input parameters\n",
    "factory = ['Detroit', 'Los Angeles', 'Austin']      # list of factories (sources)\n",
    "customer = ['Just Sports', 'Sports N Stuff', 'Sports Dude']  # list of customers (destinations)\n",
    "dc = ['Iowa','Maryland', 'Idaho', 'Arkansas']                # list of distribution centers (transship)\n",
    "supply = [350, 350, 700]      # units available at each factory\n",
    "demand = [200, 500, 650]  # units required at each customer\n",
    "cost_in = [[25.00, 25.00, 35.00, 40.00],     # inbound shipment cost from Detroit to Iowa, Maryland, Idaho, and Arkansas                \n",
    "           [35.00, 45.00, 35.00, 42.50],     # from Los Angeles\n",
    "           [40.00, 40.00, 42.50, 32.50]]     # from Austin\n",
    "cost_out = [[30.00, 17.50, 30.00],  # outbound shipment cost from Iowa to Just Sports, Sports N Stuff, and Sports Dude\n",
    "            [20.00, 32.50, 40.00],  # from Maryland\n",
    "            [35.00, 40.00, 32.50],  # from Idaho\n",
    "            [27.50, 25.00, 42.50]]  # from Arkansas\n",
    "dc_cap = 500"
   ]
  },
  {
   "cell_type": "code",
   "execution_count": 3,
   "metadata": {},
   "outputs": [],
   "source": [
    "# initialize LP model object\n",
    "mymodel = glp.Solver('Sports', glp.Solver.GLOP_LINEAR_PROGRAMMING)"
   ]
  },
  {
   "cell_type": "code",
   "execution_count": 4,
   "metadata": {},
   "outputs": [],
   "source": [
    "# create two dimensional lists of shipment variables\n",
    "ship_in = list(range(len(factory)))\n",
    "for i in range(len(factory)):\n",
    "    ship_in[i] = list(range(len(dc)))\n",
    "    for j in range(len(dc)):\n",
    "        ship_in[i][j] = mymodel.NumVar(0, mymodel.infinity(), factory[i]+dc[j])"
   ]
  },
  {
   "cell_type": "code",
   "execution_count": 5,
   "metadata": {},
   "outputs": [],
   "source": [
    "ship_out = list(range(len(dc)))\n",
    "for j in range(len(dc)):\n",
    "    ship_out[j] = list(range(len(customer)))\n",
    "    for k in range(len(customer)):\n",
    "        ship_out[j][k] = mymodel.NumVar(0, mymodel.infinity(), dc[j]+customer[k])"
   ]
  },
  {
   "cell_type": "code",
   "execution_count": 6,
   "metadata": {},
   "outputs": [],
   "source": [
    "# define objective function\n",
    "TotCost = mymodel.Objective()\n",
    "TotCost.SetMinimization()\n",
    "# inbound shipment costs:\n",
    "for i in range(len(factory)):\n",
    "    for j in range(len(dc)):\n",
    "        TotCost.SetCoefficient(ship_in[i][j], cost_in[i][j])\n",
    "# outbound shipment costs:\n",
    "for j in range(len(dc)):\n",
    "    for k in range(len(customer)):\n",
    "        TotCost.SetCoefficient(ship_out[j][k], cost_out[j][k])"
   ]
  },
  {
   "cell_type": "code",
   "execution_count": 7,
   "metadata": {},
   "outputs": [],
   "source": [
    "# define supplier supply constraints\n",
    "supply_constr = list(range(len(factory)))\n",
    "for i in range(len(factory)):\n",
    "    supply_constr[i] = mymodel.Constraint(0, supply[i])\n",
    "    for j in range(len(dc)):\n",
    "        supply_constr[i].SetCoefficient(ship_in[i][j], 1)"
   ]
  },
  {
   "cell_type": "code",
   "execution_count": 8,
   "metadata": {},
   "outputs": [],
   "source": [
    "# define customer demand constraints\n",
    "demand_constr = list(range(len(customer)))\n",
    "for k in range(len(customer)):\n",
    "    demand_constr[k] = mymodel.Constraint(demand[k], demand[k])\n",
    "    for j in range(len(dc)):\n",
    "        demand_constr[k].SetCoefficient(ship_out[j][k], 1)"
   ]
  },
  {
   "cell_type": "code",
   "execution_count": 9,
   "metadata": {},
   "outputs": [],
   "source": [
    "# define D.C processing capacity constraints\n",
    "in_processing_constr = list(range(len(dc)))\n",
    "for j in range(len(dc)):\n",
    "    in_processing_constr[j] = mymodel.Constraint(0,dc_cap)\n",
    "    for i in range(len(factory)):\n",
    "        in_processing_constr[j].SetCoefficient(ship_in[i][j], 1)\n",
    "out_processing_constr = list(range(len(dc)))\n",
    "for j in range(len(dc)):\n",
    "    out_processing_constr[j] = mymodel.Constraint(0,dc_cap)\n",
    "    for k in range(len(customer)):\n",
    "        out_processing_constr[j].SetCoefficient(ship_out[j][k], 1)"
   ]
  },
  {
   "cell_type": "code",
   "execution_count": 10,
   "metadata": {},
   "outputs": [],
   "source": [
    "# define flow constraints\n",
    "flow_constr = list(range(len(dc)))\n",
    "for j in range(len(dc)):\n",
    "    flow_constr[j] = mymodel.Constraint(0,0)\n",
    "    for i in range(len(factory)):\n",
    "        flow_constr[j].SetCoefficient(ship_in[i][j], 1)\n",
    "    for k in range(len(customer)):\n",
    "        flow_constr[j].SetCoefficient(ship_out[j][k], -1)"
   ]
  },
  {
   "cell_type": "code",
   "execution_count": 11,
   "metadata": {},
   "outputs": [
    {
     "name": "stdout",
     "output_type": "stream",
     "text": [
      "Solution Status = 0\n",
      "Number of variables = 24\n",
      "Number of constraints = 18\n",
      "Optimal Solution:\n",
      "Total Cost = 79625.00\n"
     ]
    }
   ],
   "source": [
    "# Solve the model and print optimal solution\n",
    "status = mymodel.Solve()                 # solve mymodel and display the solution\n",
    "\n",
    "print('Solution Status =', status)\n",
    "print('Number of variables =', mymodel.NumVariables())\n",
    "print('Number of constraints =', mymodel.NumConstraints())\n",
    "\n",
    "print('Optimal Solution:')\n",
    "\n",
    "# The objective value of the solution.\n",
    "print('Total Cost = %.2f' % TotCost.Value())"
   ]
  },
  {
   "cell_type": "code",
   "execution_count": 12,
   "metadata": {},
   "outputs": [
    {
     "name": "stdout",
     "output_type": "stream",
     "text": [
      "Shipments from manufacturers to suppliers\n",
      "Detroit\n",
      "         Iowa \t 300.0\n",
      "     Maryland \t  50.0\n",
      "        Idaho \t   0.0\n",
      "     Arkansas \t   0.0\n",
      "Los Angeles\n",
      "         Iowa \t 200.0\n",
      "     Maryland \t   0.0\n",
      "        Idaho \t 150.0\n",
      "     Arkansas \t   0.0\n",
      "Austin\n",
      "         Iowa \t   0.0\n",
      "     Maryland \t 150.0\n",
      "        Idaho \t   0.0\n",
      "     Arkansas \t 500.0\n",
      "Shipments from DCs to customers\n",
      "Iowa\n",
      "   Just Sports \t   0.0\n",
      "   Sports N Stuff \t   0.0\n",
      "   Sports Dude \t 500.0\n",
      "Maryland\n",
      "   Just Sports \t 200.0\n",
      "   Sports N Stuff \t   0.0\n",
      "   Sports Dude \t   0.0\n",
      "Idaho\n",
      "   Just Sports \t   0.0\n",
      "   Sports N Stuff \t   0.0\n",
      "   Sports Dude \t 150.0\n",
      "Arkansas\n",
      "   Just Sports \t   0.0\n",
      "   Sports N Stuff \t 500.0\n",
      "   Sports Dude \t   0.0\n"
     ]
    }
   ],
   "source": [
    "# Display the shipments\n",
    "print ('Shipments from manufacturers to suppliers')\n",
    "for i in range(len(factory)):\n",
    "    print(factory[i])\n",
    "    for j in range(len(dc)):\n",
    "        print('   %10s \\t %5.1f' % (dc[j], ship_in[i][j].solution_value()))\n",
    "        \n",
    "print ('Shipments from DCs to customers')       \n",
    "for j in range(len(dc)):\n",
    "    print(dc[j])\n",
    "    for k in range(len(customer)):\n",
    "        print('   %10s \\t %5.1f' % (customer[k], ship_out[j][k].solution_value()))"
   ]
  },
  {
   "cell_type": "code",
   "execution_count": 13,
   "metadata": {},
   "outputs": [
    {
     "name": "stdout",
     "output_type": "stream",
     "text": [
      "Factory \t LHS \t RHS \t Slack \t Dual\n",
      "    Detroit \t 350.0 \t 350.0 \t  0.0 \t -15.00\n",
      "Los Angeles \t 350.0 \t 350.0 \t  0.0 \t -5.00\n",
      "     Austin \t 650.0 \t 700.0 \t 50.0 \t  0.00\n"
     ]
    }
   ],
   "source": [
    "# display supply constraint Information\n",
    "print('Factory \\t LHS \\t RHS \\t Slack \\t Dual')\n",
    "LHS = mymodel.ComputeConstraintActivities()\n",
    "for i in range(len(factory)):\n",
    "    slack = supply[i] - LHS[i]\n",
    "    print('%11s \\t %3.1f \\t %3.1f \\t %4.1f \\t %5.2f' % (factory[i], LHS[i], supply[i], slack, supply_constr[i].dual_value()))"
   ]
  },
  {
   "cell_type": "code",
   "execution_count": 14,
   "metadata": {},
   "outputs": [
    {
     "name": "stdout",
     "output_type": "stream",
     "text": [
      "Customer \t LHS \t RHS \t Slack \t Dual\n",
      "Just Sports \t 200.0 \t 200.0 \t 0.0 \t 60.00\n",
      "Sports N Stuff \t 500.0 \t 500.0 \t 0.0 \t 57.50\n",
      "Sports Dude \t 650.0 \t 650.0 \t 0.0 \t 72.50\n"
     ]
    }
   ],
   "source": [
    "# display demand constraint Information\n",
    "print('Customer \\t LHS \\t RHS \\t Slack \\t Dual')\n",
    "for k in range(len(customer)):\n",
    "    slack = LHS[k + len(factory)] - demand[k]\n",
    "    print('%10s \\t %3.1f \\t %3.1f \\t %2.1f \\t %5.2f' % (customer[k], LHS[k + len(factory)], demand[k], slack, demand_constr[k].dual_value()))"
   ]
  },
  {
   "cell_type": "code",
   "execution_count": 15,
   "metadata": {},
   "outputs": [
    {
     "name": "stdout",
     "output_type": "stream",
     "text": [
      "DC \t\t LHS \t RHS \t Slack \t Dual\n",
      "      Iowa \t 500.0 \t 500.0 \t 0.0 \t -2.50\n",
      "  Maryland \t 200.0 \t 500.0 \t 300.0 \t  0.00\n",
      "     Idaho \t 150.0 \t 500.0 \t 350.0 \t  0.00\n",
      "  Arkansas \t 500.0 \t 500.0 \t 0.0 \t  0.00\n",
      "DC \t\t LHS \t RHS \t Slack \t Dual\n",
      "      Iowa \t 500.0 \t 500.0 \t 0.0 \t  0.00\n",
      "  Maryland \t 200.0 \t 500.0 \t 300.0 \t  0.00\n",
      "     Idaho \t 150.0 \t 500.0 \t 350.0 \t  0.00\n",
      "  Arkansas \t 500.0 \t 500.0 \t 0.0 \t  0.00\n"
     ]
    }
   ],
   "source": [
    "# display capacity constraint Information\n",
    "print('DC \\t\\t LHS \\t RHS \\t Slack \\t Dual')\n",
    "for j in range(len(dc)):\n",
    "    slack = dc_cap - LHS[j + len(factory) + len(customer)]\n",
    "    print('%10s \\t %3.1f \\t %3.1f \\t %2.1f \\t %5.2f' % (dc[j], LHS[j + len(factory) + len(customer)], dc_cap, slack, in_processing_constr[j].dual_value()))\n",
    "print('DC \\t\\t LHS \\t RHS \\t Slack \\t Dual')\n",
    "for j in range(len(dc)):\n",
    "    slack = dc_cap - LHS[j + len(factory) + len(customer)+4]\n",
    "    print('%10s \\t %3.1f \\t %3.1f \\t %2.1f \\t %5.2f' % (dc[j], LHS[j + len(factory) + len(customer)], dc_cap, slack, out_processing_constr[j].dual_value()))"
   ]
  },
  {
   "cell_type": "code",
   "execution_count": 16,
   "metadata": {},
   "outputs": [
    {
     "name": "stdout",
     "output_type": "stream",
     "text": [
      "DC \t\t LHS \t RHS \t Slack \t Dual\n",
      "      Iowa \t 0.0 \t 0.0 \t 0.0 \t 42.50\n",
      "  Maryland \t 0.0 \t 0.0 \t 0.0 \t 40.00\n",
      "     Idaho \t 0.0 \t 0.0 \t 0.0 \t 40.00\n",
      "  Arkansas \t 0.0 \t 0.0 \t 0.0 \t 32.50\n"
     ]
    }
   ],
   "source": [
    "# display flow constraint Information\n",
    "print('DC \\t\\t LHS \\t RHS \\t Slack \\t Dual')\n",
    "for j in range(len(dc)):\n",
    "    slack = LHS[j + len(factory) + len(customer)+8] - 0\n",
    "    print('%10s \\t %3.1f \\t %3.1f \\t %2.1f \\t %5.2f' % (dc[j], LHS[j + len(factory) + len(customer)+8], 0, slack, flow_constr[j].dual_value()))"
   ]
  },
  {
   "cell_type": "code",
   "execution_count": 17,
   "metadata": {},
   "outputs": [],
   "source": [
    "# increase demand in Butler by 100 and both suppliers by 100\n",
    "in_processing_constr[0].SetUb(800)\n",
    "out_processing_constr[0].SetUb(800)"
   ]
  },
  {
   "cell_type": "code",
   "execution_count": 18,
   "metadata": {},
   "outputs": [
    {
     "name": "stdout",
     "output_type": "stream",
     "text": [
      "Solution Status = 0\n",
      "Number of variables = 24\n",
      "Number of constraints = 18\n",
      "Optimal Solution:\n",
      "Total Cost = 79250.00\n"
     ]
    }
   ],
   "source": [
    "# Solve the model and print optimal solution\n",
    "status = mymodel.Solve()                 # solve mymodel and display the solution\n",
    "\n",
    "print('Solution Status =', status)\n",
    "print('Number of variables =', mymodel.NumVariables())\n",
    "print('Number of constraints =', mymodel.NumConstraints())\n",
    "\n",
    "print('Optimal Solution:')\n",
    "\n",
    "# The objective value of the solution.\n",
    "print('Total Cost = %.2f' % TotCost.Value())"
   ]
  },
  {
   "cell_type": "markdown",
   "metadata": {},
   "source": [
    "Expanding the Iowa DC would mean weekly total shipping cost went down to 79250 dollars, meaning the company saves 375 dollars per week, or 18750 in total in a year.\n",
    "However annual amortized cost of this expansion is 40,000, exceeding the shipping cost that could be saved.\n",
    "So I'd recommend not expanding the Iowa DC."
   ]
  }
 ],
 "metadata": {
  "kernelspec": {
   "display_name": "Python 3",
   "language": "python",
   "name": "python3"
  },
  "language_info": {
   "codemirror_mode": {
    "name": "ipython",
    "version": 3
   },
   "file_extension": ".py",
   "mimetype": "text/x-python",
   "name": "python",
   "nbconvert_exporter": "python",
   "pygments_lexer": "ipython3",
   "version": "3.8.3"
  }
 },
 "nbformat": 4,
 "nbformat_minor": 4
}
