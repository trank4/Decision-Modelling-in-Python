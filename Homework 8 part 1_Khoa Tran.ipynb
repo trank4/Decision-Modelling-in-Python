{
 "cells": [
  {
   "cell_type": "code",
   "execution_count": 1,
   "metadata": {},
   "outputs": [],
   "source": [
    "#libraries\n",
    "from ortools.linear_solver import pywraplp as glp"
   ]
  },
  {
   "cell_type": "code",
   "execution_count": 2,
   "metadata": {},
   "outputs": [],
   "source": [
    "#inputs\n",
    "max_lab = 100.0 #max labour hour each week\n",
    "machine_lab = [2.0,1.0] #2 hours of labour to operate 1 hr of machine 1, 1 hours of labour to operate 1 hr of machine 2\n",
    "product = ['product 1','product 2','product 3']\n",
    "mach_hr = [[0.5,1.0],[2.0,1.0],[0.75,0.5]] #Machine 1 & 2 hour per unit for each product\n",
    "unit_profit = [30.0,50.0,20.0] #for each product\n",
    "max_prod1 = 0.5 #max percent of product 1 in total product\n",
    "min_prod3 = 0.2 #min percent of product 3 in total product\n",
    "mach_limit = 40.0 #In a typical week, 40 hours are available on each machine."
   ]
  },
  {
   "cell_type": "code",
   "execution_count": 3,
   "metadata": {},
   "outputs": [],
   "source": [
    "#Create model\n",
    "model = glp.Solver('Better',glp.Solver.GLOP_LINEAR_PROGRAMMING)"
   ]
  },
  {
   "cell_type": "code",
   "execution_count": 4,
   "metadata": {},
   "outputs": [],
   "source": [
    "#Decision variables\n",
    "dvar = list(range(len(product)))\n",
    "for i in range(len(product)):\n",
    "    dvar[i]=model.NumVar(0,model.infinity(),product[i])"
   ]
  },
  {
   "cell_type": "code",
   "execution_count": 5,
   "metadata": {},
   "outputs": [],
   "source": [
    "#Objective Function\n",
    "TotProfit = model.Objective()\n",
    "TotProfit.SetMaximization()\n",
    "for i in range(len(dvar)):\n",
    "    TotProfit.SetCoefficient(dvar[i],unit_profit[i])"
   ]
  },
  {
   "cell_type": "code",
   "execution_count": 6,
   "metadata": {},
   "outputs": [],
   "source": [
    "#Constraints\n",
    "constr = list(range(len(machine_lab)+3))\n",
    "#2 constraints on machine hour 40 per week\n",
    "for m in range(len(machine_lab)):\n",
    "    constr[m] = model.Constraint(-model.infinity(),mach_limit,'Machine %d hour limit' % (m+1))\n",
    "    for p in range(len(dvar)):\n",
    "        constr[m].SetCoefficient(dvar[p],mach_hr[p][m])\n",
    "#constraint on max labour\n",
    "temp=mach_hr\n",
    "constr[2] = model.Constraint(-model.infinity(), max_lab, 'Max labour')\n",
    "for p in range(len(product)):\n",
    "    for m in range(len(machine_lab)):\n",
    "        temp[p][m] = mach_hr[p][m]*machine_lab[m]\n",
    "    prod_lab = sum(temp[p]) #labour in hour for each product\n",
    "    constr[2].SetCoefficient(dvar[p],prod_lab)\n",
    "#constraint on max percent of product 1 in total product \n",
    "constr[3] = model.Constraint(-model.infinity(), 0, 'Max % prod 1')\n",
    "for p in range(len(product)):\n",
    "    if product[p] == 'product 1': \n",
    "        constr[3].SetCoefficient(dvar[p],(1.0 - max_prod1))\n",
    "    else: \n",
    "        constr[3].SetCoefficient(dvar[p],(-max_prod1))\n",
    "#constraint on min percent of product 3 in total product \n",
    "constr[4] = model.Constraint(0, model.infinity(), 'Min % prod 3')\n",
    "for p in range(len(product)):\n",
    "    if product[p] == 'product 3': \n",
    "        constr[4].SetCoefficient(dvar[p],(1.0 - min_prod3))\n",
    "    else: \n",
    "        constr[4].SetCoefficient(dvar[p],(-min_prod3))"
   ]
  },
  {
   "cell_type": "code",
   "execution_count": 7,
   "metadata": {},
   "outputs": [
    {
     "name": "stdout",
     "output_type": "stream",
     "text": [
      "Solution status: Optimal\n",
      "Number of variables: 3\n",
      "Number of constraints: 5\n",
      "Optimal Solution\n",
      "Total Profit: $1250.00\n",
      "product 1 = 25 units\n",
      "product 2 = 0 units\n",
      "product 3 = 25 units\n"
     ]
    }
   ],
   "source": [
    "#Solve model and display result\n",
    "statusls = ['Optimal','Feasible','Infeasible','Unbounded','Abnormal','Not Solved']\n",
    "status = model.Solve()\n",
    "print('Solution status:', statusls[status])\n",
    "print('Number of variables:', model.NumVariables())\n",
    "print('Number of constraints:',model.NumConstraints())\n",
    "print('Optimal Solution')\n",
    "print('Total Profit: $%.2f' % TotProfit.Value())\n",
    "for p in range(len(product)):\n",
    "    print('%s = %.0f units' % (product[p],dvar[p].solution_value()))"
   ]
  },
  {
   "cell_type": "code",
   "execution_count": 8,
   "metadata": {},
   "outputs": [
    {
     "name": "stdout",
     "output_type": "stream",
     "text": [
      "Machine 1 hours: 31.25 40.00 -0.00\n",
      "Machine 2 hours: 37.50 40.00 -0.00\n",
      "Total labour hours: 100.00 100.00 12.50\n",
      "Percent of Product 1: 50.0% 50.0%\n",
      "Percent of Product 3: 50.0% 20.0%\n"
     ]
    }
   ],
   "source": [
    "#Display Constraints info\n",
    "LHS = model.ComputeConstraintActivities()\n",
    "for i in range(2):\n",
    "    print('Machine %d hours: %.2f %.2f %.2f' % ((i+1),LHS[i],mach_limit,constr[i].dual_value()))\n",
    "print('Total labour hours: %.2f %.2f %.2f' % (LHS[2],max_lab,constr[2].dual_value()))\n",
    "totalprod = 0\n",
    "for i in range(len(product)):\n",
    "    totalprod += dvar[i].solution_value()\n",
    "print('Percent of Product 1: %.1f%% %.1f%%' % ((dvar[0].solution_value()/totalprod)*100,max_prod1*100))\n",
    "print('Percent of Product 3: %.1f%% %.1f%%' % ((dvar[2].solution_value()/totalprod)*100,min_prod3*100))"
   ]
  },
  {
   "cell_type": "code",
   "execution_count": 9,
   "metadata": {},
   "outputs": [],
   "source": [
    "#if labour capacity increases by 20 hr\n",
    "#Modify the max labour constraint\n",
    "temp=mach_hr\n",
    "new_max_lab= max_lab+20\n",
    "constr[2].SetUb(new_max_lab)"
   ]
  },
  {
   "cell_type": "code",
   "execution_count": 10,
   "metadata": {},
   "outputs": [
    {
     "name": "stdout",
     "output_type": "stream",
     "text": [
      "Solution status: Optimal\n",
      "Number of variables: 3\n",
      "Number of constraints: 5\n",
      "Optimal Solution\n",
      "Total Profit: $1440.00\n",
      "product 1 = 24 units\n",
      "product 2 = 8 units\n",
      "product 3 = 16 units\n"
     ]
    }
   ],
   "source": [
    "#Solve model and display result\n",
    "statusls = ['Optimal','Feasible','Infeasible','Unbounded','Abnormal','Not Solved']\n",
    "status = model.Solve()\n",
    "print('Solution status:', statusls[status])\n",
    "print('Number of variables:', model.NumVariables())\n",
    "print('Number of constraints:',model.NumConstraints())\n",
    "print('Optimal Solution')\n",
    "print('Total Profit: $%.2f' % TotProfit.Value())\n",
    "for p in range(len(product)):\n",
    "    print('%s = %.0f units' % (product[p],dvar[p].solution_value()))"
   ]
  },
  {
   "cell_type": "code",
   "execution_count": 13,
   "metadata": {},
   "outputs": [
    {
     "name": "stdout",
     "output_type": "stream",
     "text": [
      "Machine 1 hours: 40.00 40.00 -0.00\n",
      "Machine 2 hours: 40.00 40.00 12.00\n",
      "Total labour hours: 120.00 120.00 8.00\n",
      "Percent of Product 1: 50.0% 50.0%\n",
      "Percent of Product 3: 33.3% 20.0%\n"
     ]
    }
   ],
   "source": [
    "#Display Constraints info\n",
    "LHS = model.ComputeConstraintActivities()\n",
    "for i in range(2):\n",
    "    print('Machine %d hours: %.2f %.2f %.2f' % ((i+1),LHS[i],mach_limit,constr[i].dual_value()))\n",
    "print('Total labour hours: %.2f %.2f %.2f' % (LHS[2],new_max_lab,constr[2].dual_value()))\n",
    "totalprod = 0\n",
    "for i in range(len(product)):\n",
    "    totalprod += dvar[i].solution_value()\n",
    "print('Percent of Product 1: %.1f%% %.1f%%' % ((dvar[0].solution_value()/totalprod)*100,max_prod1*100))\n",
    "print('Percent of Product 3: %.1f%% %.1f%%' % ((dvar[2].solution_value()/totalprod)*100,min_prod3*100))"
   ]
  },
  {
   "cell_type": "markdown",
   "metadata": {},
   "source": [
    "At the new labor capacity, profit increased from the previous value of 1250 to 1440 and we maximize the capacity of our machines. Thus, we should use this new capacity."
   ]
  },
  {
   "cell_type": "code",
   "execution_count": null,
   "metadata": {},
   "outputs": [],
   "source": []
  }
 ],
 "metadata": {
  "kernelspec": {
   "display_name": "Python 3",
   "language": "python",
   "name": "python3"
  },
  "language_info": {
   "codemirror_mode": {
    "name": "ipython",
    "version": 3
   },
   "file_extension": ".py",
   "mimetype": "text/x-python",
   "name": "python",
   "nbconvert_exporter": "python",
   "pygments_lexer": "ipython3",
   "version": "3.7.3"
  }
 },
 "nbformat": 4,
 "nbformat_minor": 2
}
