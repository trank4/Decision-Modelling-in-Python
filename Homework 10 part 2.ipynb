{
 "cells": [
  {
   "cell_type": "code",
   "execution_count": 1,
   "metadata": {},
   "outputs": [],
   "source": [
    "# import Glop linear solver package\n",
    "from ortools.linear_solver import pywraplp as glp"
   ]
  },
  {
   "cell_type": "code",
   "execution_count": 2,
   "metadata": {},
   "outputs": [],
   "source": [
    "# input parameters\n",
    "node = [1, 2, 3, 4, 5, 6, 7]                      # nodes\n",
    "edge = ['A','B','C','D','E','F','G','H','I','J','K','L','M'] # edges\n",
    "orig = [1, 1, 1, 2, 2, 3, 3, 4, 5, 5, 5, 5, 6] # origin of each edge\n",
    "dest = [2, 3, 4, 3, 5, 2, 5, 6, 2, 3, 6, 7, 7] # destination of each edge\n",
    "dist = [7, 9,18, 3, 5, 3, 4, 3, 5, 4, 2, 6, 3] # distance between nodes, or length of of each edge\n",
    "flow = [-1, 0, 0, 0, 0, 0, 1]"
   ]
  },
  {
   "cell_type": "code",
   "execution_count": 3,
   "metadata": {},
   "outputs": [],
   "source": [
    "# initialize LP model object\n",
    "mymodel = glp.Solver('Network', glp.Solver.GLOP_LINEAR_PROGRAMMING)"
   ]
  },
  {
   "cell_type": "code",
   "execution_count": 4,
   "metadata": {},
   "outputs": [],
   "source": [
    "# create list of path/edge variables\n",
    "path = list(range(len(edge)))\n",
    "for i in range(len(edge)):\n",
    "    path[i] = mymodel.NumVar(0,1, edge[i] + str(orig[i]) + str(dest[i]))"
   ]
  },
  {
   "cell_type": "code",
   "execution_count": 5,
   "metadata": {},
   "outputs": [],
   "source": [
    "# define objective function\n",
    "TotDistance = mymodel.Objective()\n",
    "TotDistance.SetMinimization\n",
    "for i in range(len(edge)):\n",
    "    TotDistance.SetCoefficient(path[i], dist[i])"
   ]
  },
  {
   "cell_type": "code",
   "execution_count": 6,
   "metadata": {},
   "outputs": [],
   "source": [
    "# define flow constraints\n",
    "flow_constr = list(range(len(node)))\n",
    "for j in range(len(node)):\n",
    "    flow_constr[j] = mymodel.Constraint(flow[j],flow[j])\n",
    "    for i in range(len(edge)):\n",
    "        if dest[i] == node[j]:\n",
    "            flow_constr[j].SetCoefficient(path[i], 1)\n",
    "        elif orig[i] == node[j]:\n",
    "            flow_constr[j].SetCoefficient(path[i], -1)"
   ]
  },
  {
   "cell_type": "code",
   "execution_count": 7,
   "metadata": {},
   "outputs": [
    {
     "name": "stdout",
     "output_type": "stream",
     "text": [
      "Solution Status = 0\n",
      "Number of variables = 13\n",
      "Number of constraints = 7\n",
      "Optimal Solution:\n",
      "Total Distance = 17.00\n"
     ]
    }
   ],
   "source": [
    "# Solve the model and print optimal solution\n",
    "status = mymodel.Solve()                 # solve mymodel and display the solution\n",
    "\n",
    "print('Solution Status =', status)\n",
    "print('Number of variables =', mymodel.NumVariables())\n",
    "print('Number of constraints =', mymodel.NumConstraints())\n",
    "\n",
    "print('Optimal Solution:')\n",
    "\n",
    "# The objective value of the solution.\n",
    "print('Total Distance = %.2f' % TotDistance.Value())"
   ]
  },
  {
   "cell_type": "code",
   "execution_count": 8,
   "metadata": {},
   "outputs": [
    {
     "name": "stdout",
     "output_type": "stream",
     "text": [
      "A 1 2\n",
      "E 2 5\n",
      "K 5 6\n",
      "M 6 7\n"
     ]
    }
   ],
   "source": [
    "# display solution\n",
    "for i in range(len(edge)):\n",
    "    if path[i].solution_value() == 1:\n",
    "        print(edge[i], orig[i], dest[i])"
   ]
  },
  {
   "cell_type": "code",
   "execution_count": null,
   "metadata": {},
   "outputs": [],
   "source": []
  }
 ],
 "metadata": {
  "kernelspec": {
   "display_name": "Python 3",
   "language": "python",
   "name": "python3"
  },
  "language_info": {
   "codemirror_mode": {
    "name": "ipython",
    "version": 3
   },
   "file_extension": ".py",
   "mimetype": "text/x-python",
   "name": "python",
   "nbconvert_exporter": "python",
   "pygments_lexer": "ipython3",
   "version": "3.8.3"
  }
 },
 "nbformat": 4,
 "nbformat_minor": 4
}
