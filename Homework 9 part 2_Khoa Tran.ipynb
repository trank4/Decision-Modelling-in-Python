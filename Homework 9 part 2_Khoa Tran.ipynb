{
 "cells": [
  {
   "cell_type": "code",
   "execution_count": 1,
   "metadata": {},
   "outputs": [],
   "source": [
    "#libraries\n",
    "from ortools.linear_solver import pywraplp as glp"
   ]
  },
  {
   "cell_type": "code",
   "execution_count": 2,
   "metadata": {},
   "outputs": [],
   "source": [
    "#Part 2:\n",
    "#inputs\n",
    "demand = [400,200,300] #units\n",
    "supply = [500,400]#units\n",
    "unit_cost=[[10,20,15],[12,15,18]]\n",
    "county=['Hamilton','Butler','Clermont']\n",
    "supplier=['Southern Gas','Northwest Gas']"
   ]
  },
  {
   "cell_type": "code",
   "execution_count": 3,
   "metadata": {},
   "outputs": [],
   "source": [
    "#Create model\n",
    "model2 = glp.Solver('tri-County',glp.Solver.GLOP_LINEAR_PROGRAMMING)"
   ]
  },
  {
   "cell_type": "code",
   "execution_count": 4,
   "metadata": {},
   "outputs": [],
   "source": [
    "#Decision variables:\n",
    "ship=list(range(len(supplier)))\n",
    "for s in range(len(supplier)):\n",
    "    ship[s]=list(range(len(county)))\n",
    "    for c in range(len(county)):\n",
    "        ship[s][c]=model2.NumVar(0,model2.infinity(),supplier[s]+'-'+county[c])\n",
    "    "
   ]
  },
  {
   "cell_type": "code",
   "execution_count": 5,
   "metadata": {},
   "outputs": [],
   "source": [
    "#Objective function\n",
    "TotCost=model2.Objective()\n",
    "TotCost.SetMinimization()\n",
    "for s in range(len(supplier)):\n",
    "    for c in range(len(county)):\n",
    "        TotCost.SetCoefficient(ship[s][c],unit_cost[s][c])\n"
   ]
  },
  {
   "cell_type": "code",
   "execution_count": 6,
   "metadata": {},
   "outputs": [],
   "source": [
    "#supply constraints\n",
    "supply_constr=list(range(len(supplier)))\n",
    "for s in range(len(supplier)):\n",
    "    supply_constr[s]=model2.Constraint(0,supply[s],supplier[s])\n",
    "    for c in range(len(county)):\n",
    "        supply_constr[s].SetCoefficient(ship[s][c],1)\n",
    "#demand constraints\n",
    "demand_constr=list(range(len(county)))\n",
    "for c in range(len(county)):\n",
    "    demand_constr[c]=model2.Constraint(demand[c],model2.infinity(),county[c])\n",
    "    for s in range(len(supplier)):\n",
    "        demand_constr[c].SetCoefficient(ship[s][c],1)"
   ]
  },
  {
   "cell_type": "code",
   "execution_count": 7,
   "metadata": {},
   "outputs": [
    {
     "name": "stdout",
     "output_type": "stream",
     "text": [
      "Solution status: Optimal\n",
      "Number of variables: 6\n",
      "Number of constraints: 5\n",
      "Total cost: $11900.00\n"
     ]
    }
   ],
   "source": [
    "#Solve model and display result\n",
    "statusls = ['Optimal','Feasible','Infeasible','Unbounded','Abnormal','Not Solved']\n",
    "status = model2.Solve()\n",
    "print('Solution status:', statusls[status])\n",
    "print('Number of variables:', model2.NumVariables())\n",
    "print('Number of constraints:',model2.NumConstraints())\n",
    "print('Total cost: $%.02f'%(TotCost.Value()))"
   ]
  },
  {
   "cell_type": "code",
   "execution_count": 8,
   "metadata": {},
   "outputs": [
    {
     "name": "stdout",
     "output_type": "stream",
     "text": [
      "Southern Gas\n",
      " \t Hamilton \t 200.0\n",
      " \t Butler \t   0.0\n",
      " \t Clermont \t 300.0\n",
      "Northwest Gas\n",
      " \t Hamilton \t 200.0\n",
      " \t Butler \t 200.0\n",
      " \t Clermont \t   0.0\n"
     ]
    }
   ],
   "source": [
    "#Display shipment\n",
    "for s in range(len(supplier)):\n",
    "    print(supplier[s])\n",
    "    for c in range(len(county)):\n",
    "        print(' \\t %s \\t %5.1f'%(county[c],ship[s][c].solution_value()))"
   ]
  },
  {
   "cell_type": "code",
   "execution_count": 9,
   "metadata": {},
   "outputs": [
    {
     "name": "stdout",
     "output_type": "stream",
     "text": [
      "Supplier \t LHS \t\t RHS \t\t Slack \t Dual\n",
      "Southern Gas \t 500.00 \t 500.00 \t 0.00 \t -2.00\n",
      "Northwest Gas \t 400.00 \t 400.00 \t 0.00 \t 0.00\n"
     ]
    }
   ],
   "source": [
    "#Display supplier constraints info\n",
    "print('Supplier \\t LHS \\t\\t RHS \\t\\t Slack \\t Dual')\n",
    "LHS = model2.ComputeConstraintActivities()\n",
    "for s in range(len(supplier)):\n",
    "    slack = supply[s]-LHS[s]\n",
    "    print('%s \\t %.2f \\t %.2f \\t %.2f \\t %.2f'% (supplier[s],LHS[s],supply[s],slack,supply_constr[s].dual_value()))"
   ]
  },
  {
   "cell_type": "code",
   "execution_count": 10,
   "metadata": {},
   "outputs": [
    {
     "name": "stdout",
     "output_type": "stream",
     "text": [
      "County \t\t LHS \t\t RHS \t\t Slack \t Dual\n",
      "Hamilton \t 400.00 \t 400.00 \t 0.00 \t 12.00\n",
      " Butler \t 200.00 \t 200.00 \t 0.00 \t 15.00\n",
      "Clermont \t 300.00 \t 300.00 \t 0.00 \t 17.00\n"
     ]
    }
   ],
   "source": [
    "#Display demand constraints info\n",
    "print('County \\t\\t LHS \\t\\t RHS \\t\\t Slack \\t Dual')\n",
    "for c in range(len(county)):\n",
    "    slack = demand[c]-LHS[c+2]\n",
    "    print('%7s \\t %.2f \\t %.2f \\t %.2f \\t %.2f'% (county[c],LHS[c+2],demand[c],slack,demand_constr[c].dual_value()))"
   ]
  },
  {
   "cell_type": "code",
   "execution_count": 11,
   "metadata": {},
   "outputs": [
    {
     "name": "stdout",
     "output_type": "stream",
     "text": [
      "Solution status: Optimal\n",
      "Total cost: $13200.00\n",
      "Southern Gas\n",
      " \t Hamilton \t 300.0\n",
      " \t Butler \t   0.0\n",
      " \t Clermont \t 300.0\n",
      "Northwest Gas\n",
      " \t Hamilton \t 100.0\n",
      " \t Butler \t 300.0\n",
      " \t Clermont \t   0.0\n",
      "Solution status: Optimal\n",
      "Total cost: $13400.00\n",
      "Southern Gas\n",
      " \t Hamilton \t 200.0\n",
      " \t Butler \t   0.0\n",
      " \t Clermont \t 300.0\n",
      "Northwest Gas\n",
      " \t Hamilton \t 200.0\n",
      " \t Butler \t 300.0\n",
      " \t Clermont \t   0.0\n"
     ]
    }
   ],
   "source": [
    "#b.\n",
    "#Case 1: assume the company contract with Southern Gas to supply the additional demand\n",
    "demand_constr[1].SetLb(demand[1]+100)\n",
    "supply_constr[0].SetUb(supply[0]+100)\n",
    "status = model2.Solve()\n",
    "print('Solution status:', statusls[status])\n",
    "print('Total cost: $%.02f'%(TotCost.Value()))\n",
    "for s in range(len(supplier)):\n",
    "    print(supplier[s])\n",
    "    for c in range(len(county)):\n",
    "        print(' \\t %s \\t %5.1f'%(county[c],ship[s][c].solution_value()))\n",
    "#Case 2: assume the company contract with Northwest Gas to supply the additional demand\n",
    "supply_constr[0].SetUb(supply[0])\n",
    "supply_constr[1].SetUb(supply[1]+100)\n",
    "status = model2.Solve()\n",
    "print('Solution status:', statusls[status])\n",
    "print('Total cost: $%.02f'%(TotCost.Value()))\n",
    "for s in range(len(supplier)):\n",
    "    print(supplier[s])\n",
    "    for c in range(len(county)):\n",
    "        print(' \\t %s \\t %5.1f'%(county[c],ship[s][c].solution_value()))"
   ]
  },
  {
   "cell_type": "markdown",
   "metadata": {},
   "source": [
    "Since the cost of case 1 < cost of case 2, the company should go with case 1 and contract with Southern Gas"
   ]
  },
  {
   "cell_type": "code",
   "execution_count": null,
   "metadata": {},
   "outputs": [],
   "source": []
  }
 ],
 "metadata": {
  "kernelspec": {
   "display_name": "Python 3",
   "language": "python",
   "name": "python3"
  },
  "language_info": {
   "codemirror_mode": {
    "name": "ipython",
    "version": 3
   },
   "file_extension": ".py",
   "mimetype": "text/x-python",
   "name": "python",
   "nbconvert_exporter": "python",
   "pygments_lexer": "ipython3",
   "version": "3.7.1"
  }
 },
 "nbformat": 4,
 "nbformat_minor": 2
}
